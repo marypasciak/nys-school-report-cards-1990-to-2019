{
 "cells": [
  {
   "cell_type": "code",
   "execution_count": null,
   "id": "b17678eb",
   "metadata": {},
   "outputs": [],
   "source": [
    "### filenaming protocol by NYSED is inconsistent from year to year,\n",
    "#### so we are downloading each year separately instead of looping\n",
    "\n",
    "##### this is extracting the school report card .accdb file from\n",
    "###### each year, from the download links at https://data.nysed.gov/downloads.php"
   ]
  },
  {
   "cell_type": "code",
   "execution_count": 1,
   "id": "293308e9",
   "metadata": {},
   "outputs": [
    {
     "name": "stderr",
     "output_type": "stream",
     "text": [
      "/Users/marypasciak/.pyenv/versions/3.8.10/lib/python3.8/site-packages/pandas/compat/__init__.py:97: UserWarning: Could not import the lzma module. Your installed Python is incomplete. Attempting to use lzma compression will result in a RuntimeError.\n",
      "  warnings.warn(msg)\n"
     ]
    }
   ],
   "source": [
    "import pandas as pd\n",
    "from zipfile import ZipFile"
   ]
  },
  {
   "cell_type": "code",
   "execution_count": null,
   "id": "991fef11",
   "metadata": {},
   "outputs": [],
   "source": [
    "# example code from \n",
    "## https://thispointer.com/python-how-to-unzip-a-file-extract-single-multiple-or-all-files-from-a-zip-archive/\n",
    "\n",
    "#from zipfile import ZipFile\n",
    "#def main():\n",
    "    # Create a ZipFile Object and load sample.zip in it\n",
    "    # with ZipFile('sampleDir.zip', 'r') as zipObj:\n",
    "       # Get a list of all archived file names from the zip\n",
    "        # listOfFileNames = zipObj.namelist()\n",
    "       # Iterate over the file names\n",
    "       # for fileName in listOfFileNames:\n",
    "           # Check filename endswith csv\n",
    "           # if fileName.endswith('.csv'):\n",
    "               # Extract a single file from zip\n",
    "               # zipObj.extract(fileName, 'temp_csv')\n",
    "# if __name__ == '__main__':\n",
    "   # main()"
   ]
  },
  {
   "cell_type": "code",
   "execution_count": null,
   "id": "86c38e1b",
   "metadata": {},
   "outputs": [],
   "source": [
    "# zip file to extract .accdb file from:\n",
    "### SRC2000.zip\n",
    "\n",
    "def main():\n",
    "    with ZipFile('SRC2000.zip', 'r') as zipObj:\n",
    "        listOfFileNames = zipObj.namelist()\n",
    "        for fileName in listOfFileNames:\n",
    "            if fileName.endswith('.accdb'):\n",
    "                zipObj.extract(fileName, 'accdb_files_from_all_years')\n",
    "if __name__ == '__main__':\n",
    "    main()\n",
    "    \n",
    "### --> gives us SRC_Public.accdb ###"
   ]
  },
  {
   "cell_type": "code",
   "execution_count": 18,
   "id": "0c61186e",
   "metadata": {},
   "outputs": [],
   "source": [
    "# zip file to extract .accdb file from:\n",
    "### SRC2001.zip\n",
    "\n",
    "def main():\n",
    "    with ZipFile('SRC2001.zip', 'r') as zipObj:\n",
    "        listOfFileNames = zipObj.namelist()\n",
    "        for fileName in listOfFileNames:\n",
    "            if fileName.endswith('.accdb'):\n",
    "                zipObj.extract(fileName, 'accdb_files_from_all_years')\n",
    "if __name__ == '__main__':\n",
    "    main()\n",
    "    \n",
    "### --> gives us MediaSRC2002a.accdb ###"
   ]
  },
  {
   "cell_type": "code",
   "execution_count": 19,
   "id": "d5d3368d",
   "metadata": {},
   "outputs": [],
   "source": [
    "# zip file to extract .accdb file from:\n",
    "### SRC2002.zip\n",
    "\n",
    "def main():\n",
    "    with ZipFile('SRC2002.zip', 'r') as zipObj:\n",
    "        listOfFileNames = zipObj.namelist()\n",
    "        for fileName in listOfFileNames:\n",
    "            if fileName.endswith('.accdb'):\n",
    "                zipObj.extract(fileName, 'accdb_files_from_all_years')\n",
    "if __name__ == '__main__':\n",
    "    main()\n",
    "    \n",
    "### --> gives us MediaSRC2003.accdb ###"
   ]
  },
  {
   "cell_type": "code",
   "execution_count": 22,
   "id": "90a171b0",
   "metadata": {},
   "outputs": [],
   "source": [
    "# zip file to extract .mdb file from:\n",
    "### SRC2003.zip\n",
    "\n",
    "def main():\n",
    "    with ZipFile('SRC2003.zip', 'r') as zipObj:\n",
    "        listOfFileNames = zipObj.namelist()\n",
    "        for fileName in listOfFileNames:\n",
    "            if fileName.endswith('.mdb'):\n",
    "                zipObj.extract(fileName, 'accdb_files_from_all_years')\n",
    "if __name__ == '__main__':\n",
    "    main()\n",
    "    \n",
    "### --> ^^^^ THERE IS NO ACCDB FILE IN SRC2003.ZIP,\n",
    "        ### SO INSTEAD WE EXTRACTED MediaSRC_fall2003.mdb###"
   ]
  },
  {
   "cell_type": "code",
   "execution_count": null,
   "id": "80d77033",
   "metadata": {},
   "outputs": [],
   "source": [
    "######## ^^^^ THERE IS NO ACCDB FILE IN SRC2003.ZIP,\n",
    "        ### SO INSTEAD WE EXTRACTED MediaSRC_fall2003.mdb"
   ]
  },
  {
   "cell_type": "code",
   "execution_count": 23,
   "id": "f5878258",
   "metadata": {},
   "outputs": [],
   "source": [
    "# zip file to extract .accdb file from:\n",
    "### SRC2004.zip\n",
    "\n",
    "def main():\n",
    "    with ZipFile('SRC2004.zip', 'r') as zipObj:\n",
    "        listOfFileNames = zipObj.namelist()\n",
    "        for fileName in listOfFileNames:\n",
    "            if fileName.endswith('.accdb'):\n",
    "                zipObj.extract(fileName, 'accdb_files_from_all_years')\n",
    "if __name__ == '__main__':\n",
    "    main()\n",
    "    \n",
    "### --> gives us SRC2004.accdb ###"
   ]
  },
  {
   "cell_type": "code",
   "execution_count": 24,
   "id": "777609e5",
   "metadata": {},
   "outputs": [],
   "source": [
    "# zip file to extract .accdb file from:\n",
    "### SRC2005.zip\n",
    "\n",
    "def main():\n",
    "    with ZipFile('SRC2005.zip', 'r') as zipObj:\n",
    "        listOfFileNames = zipObj.namelist()\n",
    "        for fileName in listOfFileNames:\n",
    "            if fileName.endswith('.accdb'):\n",
    "                zipObj.extract(fileName, 'accdb_files_from_all_years')\n",
    "if __name__ == '__main__':\n",
    "    main()\n",
    "    \n",
    "### --> gives us SRC_2005_MediaData.accdb ###"
   ]
  },
  {
   "cell_type": "code",
   "execution_count": 25,
   "id": "3324bcda",
   "metadata": {},
   "outputs": [],
   "source": [
    "# zip file to extract .accdb file from:\n",
    "### SRC2006.zip\n",
    "\n",
    "def main():\n",
    "    with ZipFile('SRC2006.zip', 'r') as zipObj:\n",
    "        listOfFileNames = zipObj.namelist()\n",
    "        for fileName in listOfFileNames:\n",
    "            if fileName.endswith('.accdb'):\n",
    "                zipObj.extract(fileName, 'accdb_files_from_all_years')\n",
    "if __name__ == '__main__':\n",
    "    main()\n",
    "    \n",
    "### --> gives us SRC2006.accdb ###"
   ]
  },
  {
   "cell_type": "code",
   "execution_count": 28,
   "id": "8bb43d20",
   "metadata": {},
   "outputs": [],
   "source": [
    "# zip file to extract .mdb file from:\n",
    "### SRC2007.zip\n",
    "\n",
    "def main():\n",
    "    with ZipFile('SRC2007.zip', 'r') as zipObj:\n",
    "        listOfFileNames = zipObj.namelist()\n",
    "        for fileName in listOfFileNames:\n",
    "            if fileName.endswith('.mdb'):\n",
    "                zipObj.extract(fileName, 'accdb_files_from_all_years')\n",
    "if __name__ == '__main__':\n",
    "    main()\n",
    "    \n",
    "### --> gives us SRC2007.mdb ###"
   ]
  },
  {
   "cell_type": "code",
   "execution_count": null,
   "id": "68de9841",
   "metadata": {},
   "outputs": [],
   "source": [
    "# zip file to extract .mdb file from:\n",
    "### SRC2007.zip\n",
    "\n",
    "def main():\n",
    "    with ZipFile('SRC2007.zip', 'r') as zipObj:\n",
    "        listOfFileNames = zipObj.namelist()\n",
    "        for fileName in listOfFileNames:\n",
    "            if fileName.endswith('.mdb'):\n",
    "                zipObj.extract(fileName, 'accdb_files_from_all_years')\n",
    "if __name__ == '__main__':\n",
    "    main()\n",
    "    \n",
    "### --> gives us SRC2007.mdb ###"
   ]
  },
  {
   "cell_type": "code",
   "execution_count": 32,
   "id": "1567cf19",
   "metadata": {},
   "outputs": [],
   "source": [
    "# zip file to extract .accdb file from:\n",
    "### SRC2008.zip\n",
    "\n",
    "def main():\n",
    "    with ZipFile('SRC2008.zip', 'r') as zipObj:\n",
    "        listOfFileNames = zipObj.namelist()\n",
    "        for fileName in listOfFileNames:\n",
    "            if fileName.endswith('.accdb'):\n",
    "                zipObj.extract(fileName, 'accdb_files_from_all_years')\n",
    "if __name__ == '__main__':\n",
    "    main()\n",
    "    \n",
    "### --> gives us SRC2008.accdb ###"
   ]
  },
  {
   "cell_type": "code",
   "execution_count": 33,
   "id": "dfab8820",
   "metadata": {},
   "outputs": [],
   "source": [
    "# zip file to extract .accdb file from:\n",
    "### SRC2009.zip\n",
    "\n",
    "def main():\n",
    "    with ZipFile('SRC2009.zip', 'r') as zipObj:\n",
    "        listOfFileNames = zipObj.namelist()\n",
    "        for fileName in listOfFileNames:\n",
    "            if fileName.endswith('.accdb'):\n",
    "                zipObj.extract(fileName, 'accdb_files_from_all_years')\n",
    "if __name__ == '__main__':\n",
    "    main()\n",
    "    \n",
    "### --> gives us SRC2009.accdb ###"
   ]
  },
  {
   "cell_type": "code",
   "execution_count": 35,
   "id": "9a72dbe4",
   "metadata": {},
   "outputs": [],
   "source": [
    "# zip file to extract .accdb file from:\n",
    "### SRC2010.zip\n",
    "\n",
    "def main():\n",
    "    with ZipFile('SRC2010.zip', 'r') as zipObj:\n",
    "        listOfFileNames = zipObj.namelist()\n",
    "        for fileName in listOfFileNames:\n",
    "            if fileName.endswith('.accdb'):\n",
    "                zipObj.extract(fileName, 'accdb_files_from_all_years')\n",
    "if __name__ == '__main__':\n",
    "    main()\n",
    "    \n",
    "### --> gives us SRC2010.accdb ###"
   ]
  },
  {
   "cell_type": "code",
   "execution_count": 36,
   "id": "110f0261",
   "metadata": {},
   "outputs": [],
   "source": [
    "# zip file to extract .accdb file from:\n",
    "### SRC2011.zip\n",
    "\n",
    "def main():\n",
    "    with ZipFile('SRC2011.zip', 'r') as zipObj:\n",
    "        listOfFileNames = zipObj.namelist()\n",
    "        for fileName in listOfFileNames:\n",
    "            if fileName.endswith('.accdb'):\n",
    "                zipObj.extract(fileName, 'accdb_files_from_all_years')\n",
    "if __name__ == '__main__':\n",
    "    main()\n",
    "    \n",
    "### --> gives us SRC2011.accdb ###"
   ]
  },
  {
   "cell_type": "code",
   "execution_count": 37,
   "id": "0a8c5870",
   "metadata": {},
   "outputs": [],
   "source": [
    "# zip file to extract .accdb file from:\n",
    "### SRC2012.zip\n",
    "\n",
    "def main():\n",
    "    with ZipFile('SRC2012.zip', 'r') as zipObj:\n",
    "        listOfFileNames = zipObj.namelist()\n",
    "        for fileName in listOfFileNames:\n",
    "            if fileName.endswith('.accdb'):\n",
    "                zipObj.extract(fileName, 'accdb_files_from_all_years')\n",
    "if __name__ == '__main__':\n",
    "    main()\n",
    "    \n",
    "### --> gives us 2012SRC20140227.accdb ###"
   ]
  },
  {
   "cell_type": "code",
   "execution_count": 39,
   "id": "b0d215b5",
   "metadata": {},
   "outputs": [],
   "source": [
    "# zip file to extract .accdb file from:\n",
    "### SRC2013.zip\n",
    "\n",
    "def main():\n",
    "    with ZipFile('SRC2013.zip', 'r') as zipObj:\n",
    "        listOfFileNames = zipObj.namelist()\n",
    "        for fileName in listOfFileNames:\n",
    "            if fileName.endswith('.accdb'):\n",
    "                zipObj.extract(fileName, 'accdb_files_from_all_years')\n",
    "if __name__ == '__main__':\n",
    "    main()\n",
    "    \n",
    "### --> gives us SRC2013.accdb ###"
   ]
  },
  {
   "cell_type": "code",
   "execution_count": 40,
   "id": "05005cf3",
   "metadata": {},
   "outputs": [],
   "source": [
    "# zip file to extract .accdb file from:\n",
    "### SRC2014.zip\n",
    "\n",
    "def main():\n",
    "    with ZipFile('SRC2014.zip', 'r') as zipObj:\n",
    "        listOfFileNames = zipObj.namelist()\n",
    "        for fileName in listOfFileNames:\n",
    "            if fileName.endswith('.accdb'):\n",
    "                zipObj.extract(fileName, 'accdb_files_from_all_years')\n",
    "if __name__ == '__main__':\n",
    "    main()\n",
    "    \n",
    "### --> gives us SRC2014_20150616Release.accdb ###"
   ]
  },
  {
   "cell_type": "code",
   "execution_count": 2,
   "id": "7001c761",
   "metadata": {},
   "outputs": [],
   "source": [
    "# zip file to extract .accdb file from:\n",
    "### SRC2015.zip\n",
    "\n",
    "def main():\n",
    "    with ZipFile('SRC2015.zip', 'r') as zipObj:\n",
    "        listOfFileNames = zipObj.namelist()\n",
    "        for fileName in listOfFileNames:\n",
    "            if fileName.endswith('.accdb'):\n",
    "                zipObj.extract(fileName, 'accdb_files_from_all_years')\n",
    "if __name__ == '__main__':\n",
    "    main()\n",
    "    \n",
    "### --> gives us SRC2015.accdb ###"
   ]
  },
  {
   "cell_type": "code",
   "execution_count": null,
   "id": "41492749",
   "metadata": {},
   "outputs": [],
   "source": [
    "\n",
    "########## NEED TO CONTACT NYSED TO FIND OUT WHAT'S WRONG WITH THE 2016 \n",
    "\n",
    "################# ZIP FILE -- IT WILL NOT OPEN -- \n",
    "\n",
    "#######################I GET ERROR MESSAGE SAYING IT'S THE WRONG FILETYPE FOR UNZIPPING"
   ]
  },
  {
   "cell_type": "code",
   "execution_count": 4,
   "id": "68c8cc4e",
   "metadata": {},
   "outputs": [],
   "source": [
    "# zip file to extract .accdb file from:\n",
    "### SRC2017.zip\n",
    "\n",
    "def main():\n",
    "    with ZipFile('SRC2017.zip', 'r') as zipObj:\n",
    "        listOfFileNames = zipObj.namelist()\n",
    "        for fileName in listOfFileNames:\n",
    "            if fileName.endswith('.mdb'):\n",
    "                zipObj.extract(fileName, 'accdb_files_from_all_years')\n",
    "if __name__ == '__main__':\n",
    "    main()\n",
    "    \n",
    "### --> gives us SRC2017Group.mdb ###"
   ]
  },
  {
   "cell_type": "code",
   "execution_count": 7,
   "id": "eb144f58",
   "metadata": {},
   "outputs": [],
   "source": [
    "# zip file to extract .accdb file from:\n",
    "### SRC2018.zip\n",
    "\n",
    "def main():\n",
    "    with ZipFile('SRC2018.zip', 'r') as zipObj:\n",
    "        listOfFileNames = zipObj.namelist()\n",
    "        for fileName in listOfFileNames:\n",
    "            if fileName.endswith('.accdb'):\n",
    "                zipObj.extract(fileName, 'accdb_files_from_all_years')\n",
    "if __name__ == '__main__':\n",
    "    main()\n",
    "    \n",
    "### --> gives us SRC2018_20190627.accdb ###"
   ]
  },
  {
   "cell_type": "code",
   "execution_count": 8,
   "id": "028e4359",
   "metadata": {},
   "outputs": [],
   "source": [
    "# zip file to extract .accdb file from:\n",
    "### SRC2019.zip\n",
    "\n",
    "def main():\n",
    "    with ZipFile('SRC2019.zip', 'r') as zipObj:\n",
    "        listOfFileNames = zipObj.namelist()\n",
    "        for fileName in listOfFileNames:\n",
    "            if fileName.endswith('.accdb'):\n",
    "                zipObj.extract(fileName, 'accdb_files_from_all_years')\n",
    "if __name__ == '__main__':\n",
    "    main()\n",
    "    \n",
    "### --> gives us SRC2019_Post-GroupIV.accdb ###"
   ]
  },
  {
   "cell_type": "code",
   "execution_count": 9,
   "id": "72a07696",
   "metadata": {},
   "outputs": [],
   "source": [
    "# zip file to extract .accdb file from:\n",
    "### SRC2020.zip\n",
    "\n",
    "def main():\n",
    "    with ZipFile('SRC2020.zip', 'r') as zipObj:\n",
    "        listOfFileNames = zipObj.namelist()\n",
    "        for fileName in listOfFileNames:\n",
    "            if fileName.endswith('.accdb'):\n",
    "                zipObj.extract(fileName, 'accdb_files_from_all_years')\n",
    "if __name__ == '__main__':\n",
    "    main()\n",
    "    \n",
    "### --> gives us SRC2020_Post-GroupIII.accdb ###"
   ]
  }
 ],
 "metadata": {
  "kernelspec": {
   "display_name": "Python 3",
   "language": "python",
   "name": "python3"
  },
  "language_info": {
   "codemirror_mode": {
    "name": "ipython",
    "version": 3
   },
   "file_extension": ".py",
   "mimetype": "text/x-python",
   "name": "python",
   "nbconvert_exporter": "python",
   "pygments_lexer": "ipython3",
   "version": "3.8.10"
  }
 },
 "nbformat": 4,
 "nbformat_minor": 5
}
