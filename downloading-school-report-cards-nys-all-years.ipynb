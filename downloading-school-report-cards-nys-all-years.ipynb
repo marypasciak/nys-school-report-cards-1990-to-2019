{
 "cells": [
  {
   "cell_type": "code",
   "execution_count": null,
   "id": "8a8b4a67",
   "metadata": {},
   "outputs": [],
   "source": [
    "############ LOOP THROUGH TO DOWNLOAD THE ZIP FILE FROM EACH YEAR ##############\n",
    "\n",
    "# main page, with links to school report card databases for all years:\n",
    "### https://data.nysed.gov/downloads.php\n",
    "\n",
    "# link for just one year's school report card database:\n",
    "### https://data.nysed.gov/files/reportcards/archive/1999-00/SRC2000.zip \n",
    "\n",
    "######## AFTER A CERTAIN YEAR, THE YEAR-SPECIFIC URL CHANGES ########\n"
   ]
  },
  {
   "cell_type": "code",
   "execution_count": 37,
   "id": "2b83dc48",
   "metadata": {},
   "outputs": [],
   "source": [
    "import pandas as pd\n",
    "from urllib.request import urlretrieve as retrieve"
   ]
  },
  {
   "cell_type": "code",
   "execution_count": 25,
   "id": "f9d04dee",
   "metadata": {},
   "outputs": [],
   "source": [
    "########### TO DOWNLOAD 2000 TO 2009: #############\n",
    "\n",
    "### https://data.nysed.gov/files/reportcards/archive/1999-00/SRC2000.zip\n",
    "\n",
    "partial_file_names = [\"2000\",\"2001\",\"2002\",\"2003\",\"2004\",\"2005\",\"2006\",\"2007\",\"2008\",\"2009\"]\n",
    "\n",
    "count = 0\n",
    "year = 2000\n",
    "fall_of_school_year = 1999\n",
    "spring_of_school_year = 0\n",
    "\n",
    "\n",
    "for partial_file_name in partial_file_names:\n",
    "    url = f'https://data.nysed.gov/files/reportcards/archive/{fall_of_school_year}-0{spring_of_school_year}/SRC{year}.zip'\n",
    "    retrieve(url, f\"SRC{year}.zip\")\n",
    "    count = count + 1\n",
    "    year = year + 1\n",
    "    fall_of_school_year = fall_of_school_year + 1\n",
    "    spring_of_school_year = spring_of_school_year + 1\n"
   ]
  },
  {
   "cell_type": "code",
   "execution_count": 28,
   "id": "788a32c4",
   "metadata": {},
   "outputs": [],
   "source": [
    "######### TO DOWNLOAD 2010: ###########\n",
    "\n",
    "# 2010 LINK = https://data.nysed.gov/files/reportcards/archive/2009-10/SRC2010.zip\n",
    "\n",
    "partial_file_names = [\"2010\"]\n",
    "\n",
    "count = 0\n",
    "year = 2010\n",
    "fall_of_school_year = 2009\n",
    "spring_of_school_year = 1\n",
    "\n",
    "\n",
    "for partial_file_name in partial_file_names:\n",
    "    url = 'https://data.nysed.gov/files/reportcards/archive/2009-10/SRC2010.zip'\n",
    "    retrieve(url, f\"SRC{year}.zip\")\n",
    "    count = count + 1\n",
    "    year = year + 1\n",
    "    fall_of_school_year = fall_of_school_year + 1\n",
    "    spring_of_school_year = spring_of_school_year + 1\n"
   ]
  },
  {
   "cell_type": "code",
   "execution_count": null,
   "id": "ce4abfad",
   "metadata": {},
   "outputs": [],
   "source": []
  },
  {
   "cell_type": "code",
   "execution_count": 31,
   "id": "47ff05dd",
   "metadata": {},
   "outputs": [],
   "source": [
    "######### TO DOWNLOAD 2011 TO 2012: ###########\n",
    "\n",
    "# 2011 LINK = https://data.nysed.gov/files/reportcards/archive/2010-11/SRC2011.zip\n",
    "\n",
    "\n",
    "partial_file_names = [\"2011\",\"2012\"]\n",
    "\n",
    "count = 0\n",
    "year = 2011\n",
    "fall_of_school_year = 2010\n",
    "spring_of_school_year = 1\n",
    "\n",
    "\n",
    "for partial_file_name in partial_file_names:\n",
    "    url = f'https://data.nysed.gov/files/reportcards/archive/{fall_of_school_year}-1{spring_of_school_year}/SRC{year}.zip'\n",
    "    retrieve(url, f\"SRC{year}.zip\")\n",
    "    count = count + 1\n",
    "    year = year + 1\n",
    "    fall_of_school_year = fall_of_school_year + 1\n",
    "    spring_of_school_year = spring_of_school_year + 1"
   ]
  },
  {
   "cell_type": "code",
   "execution_count": null,
   "id": "1ff05214",
   "metadata": {},
   "outputs": [],
   "source": [
    "\n",
    "############### STARTING WITH 2014, 3-8 ASSESSMENT DATA\n",
    "                   # IS IN A DIFFERENT ZIP FILE FROM THE SCHOOL REPORT CARD ZIP FILE ###############\n"
   ]
  },
  {
   "cell_type": "code",
   "execution_count": null,
   "id": "4289ca00",
   "metadata": {},
   "outputs": [],
   "source": [
    "\n",
    "############### STARTING WITH 2015, GRADUATION RATE DATA\n",
    "                # ALSO\n",
    "                   # IS IN A DIFFERENT ZIP FILE FROM THE SCHOOL REPORT CARD ZIP FILE ###############\n"
   ]
  },
  {
   "cell_type": "code",
   "execution_count": 39,
   "id": "6a5ef679",
   "metadata": {},
   "outputs": [],
   "source": [
    "######### TO DOWNLOAD 2013 TO 2017: ###########\n",
    "\n",
    "# 2013 LINK = https://data.nysed.gov/files/reportcards/12-13/SRC2013.zip\n",
    "\n",
    "partial_file_names = [\"2013\",\"2014\",\"2015\",\"2016\",\"2017\"]\n",
    "\n",
    "count = 0\n",
    "year = 2013\n",
    "fall_of_school_year = 2012\n",
    "fall_shortened = 12\n",
    "spring_of_school_year = 3\n",
    "spring_shortened = 13\n",
    "\n",
    "for partial_file_name in partial_file_names:\n",
    "    \n",
    "    url = f'https://data.nysed.gov/files/reportcards/{fall_shortened}-{spring_shortened}/SRC{year}.zip'\n",
    "    \n",
    "   \n",
    "    retrieve(url, f\"SRC{year}.zip\")\n",
    "    count = count + 1\n",
    "    year = year + 1\n",
    "    fall_of_school_year = fall_of_school_year + 1\n",
    "    spring_of_school_year = spring_of_school_year + 1\n",
    "    fall_shortened = fall_shortened + 1\n",
    "    spring_shortened = spring_shortened + 1\n"
   ]
  },
  {
   "cell_type": "code",
   "execution_count": 41,
   "id": "890e0535",
   "metadata": {},
   "outputs": [],
   "source": [
    "######### TO DOWNLOAD 2018 TO 2019: ###########\n",
    "# link for 2018 files: https://data.nysed.gov/files/essa/17-18/SRC2018.zip\n",
    "\n",
    "partial_file_names = [\"2018\",\"2019\"]\n",
    "\n",
    "count = 0\n",
    "year = 2018\n",
    "fall_of_school_year = 2017\n",
    "fall_shortened = 17\n",
    "spring_of_school_year = 8\n",
    "spring_shortened = 18\n",
    "\n",
    "for partial_file_name in partial_file_names:\n",
    "    \n",
    "    url = f'https://data.nysed.gov/files/essa/{fall_shortened}-{spring_shortened}/SRC{year}.zip'\n",
    "    \n",
    "   \n",
    "    retrieve(url, f\"SRC{year}.zip\")\n",
    "    count = count + 1\n",
    "    year = year + 1\n",
    "    fall_of_school_year = fall_of_school_year + 1\n",
    "    spring_of_school_year = spring_of_school_year + 1\n",
    "    fall_shortened = fall_shortened + 1\n",
    "    spring_shortened = spring_shortened + 1"
   ]
  },
  {
   "cell_type": "code",
   "execution_count": null,
   "id": "4505443d",
   "metadata": {},
   "outputs": [],
   "source": [
    "######### WILL HAVE TO WRITE SEPARATE CODE FOR JUST 2020 BECAUSE \n",
    "########### THE LAST TWO DIGITS START WITH A 2\n",
    "############## SO IT DOES NOT FIT THE PREVIOUS PATTERN"
   ]
  },
  {
   "cell_type": "code",
   "execution_count": 48,
   "id": "7987aeb7",
   "metadata": {},
   "outputs": [],
   "source": [
    "######### TO DOWNLOAD 2020: ###########\n",
    "# link for 2020 files: https://data.nysed.gov/files/essa/19-20/SRC2020.zip\n",
    "\n",
    "partial_file_names = [\"2020\"]\n",
    "\n",
    "count = 0\n",
    "year = 2020\n",
    "fall_of_school_year = 2019\n",
    "fall_shortened = 19\n",
    "spring_of_school_year = 0\n",
    "spring_shortened = 20\n",
    "\n",
    "for partial_file_name in partial_file_names:\n",
    "    \n",
    "    url = f'https://data.nysed.gov/files/essa/{fall_shortened}-{spring_shortened}/SRC{year}.zip'\n",
    "    \n",
    "   \n",
    "    retrieve(url, f\"SRC{year}.zip\")\n",
    "    count = count + 1\n",
    "    year = year + 1\n",
    "    fall_of_school_year = fall_of_school_year + 1\n",
    "    spring_of_school_year = spring_of_school_year + 1\n",
    "    fall_shortened = fall_shortened + 1\n",
    "    spring_shortened = spring_shortened + 1"
   ]
  },
  {
   "cell_type": "code",
   "execution_count": null,
   "id": "64e29c5a",
   "metadata": {},
   "outputs": [],
   "source": []
  }
 ],
 "metadata": {
  "kernelspec": {
   "display_name": "Python 3",
   "language": "python",
   "name": "python3"
  },
  "language_info": {
   "codemirror_mode": {
    "name": "ipython",
    "version": 3
   },
   "file_extension": ".py",
   "mimetype": "text/x-python",
   "name": "python",
   "nbconvert_exporter": "python",
   "pygments_lexer": "ipython3",
   "version": "3.8.10"
  }
 },
 "nbformat": 4,
 "nbformat_minor": 5
}
